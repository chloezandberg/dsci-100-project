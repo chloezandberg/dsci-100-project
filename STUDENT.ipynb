{
 "cells": [
  {
   "cell_type": "code",
   "execution_count": null,
   "id": "4e34ce9b-66ec-4951-a033-90f7f4dac819",
   "metadata": {
    "vscode": {
     "languageId": "r"
    }
   },
   "outputs": [
    {
     "name": "stderr",
     "output_type": "stream",
     "text": [
      "\u001b[1mRows: \u001b[22m\u001b[34m395\u001b[39m \u001b[1mColumns: \u001b[22m\u001b[34m33\u001b[39m\n",
      "\u001b[36m──\u001b[39m \u001b[1mColumn specification\u001b[22m \u001b[36m────────────────────────────────────────────────────────\u001b[39m\n",
      "\u001b[1mDelimiter:\u001b[22m \";\"\n",
      "\u001b[31mchr\u001b[39m (17): school, sex, address, famsize, Pstatus, Mjob, Fjob, reason, guardi...\n",
      "\u001b[32mdbl\u001b[39m (16): age, Medu, Fedu, traveltime, studytime, failures, famrel, freetime...\n",
      "\n",
      "\u001b[36mℹ\u001b[39m Use `spec()` to retrieve the full column specification for this data.\n",
      "\u001b[36mℹ\u001b[39m Specify the column types or set `show_col_types = FALSE` to quiet this message.\n"
     ]
    }
   ],
   "source": [
    "library(tidyverse)"
   ]
  },
  {
   "cell_type": "markdown",
   "id": "69e86382-4271-4bfe-9735-b37af360aff9",
   "metadata": {},
   "source": [
    "# DSCI 100 Project"
   ]
  },
  {
   "cell_type": "markdown",
   "id": "48d95d97-393f-4c70-bdb7-7e1aad2cbed6",
   "metadata": {},
   "source": [
    "### Title: The Effects of Lifestyle Based Variables on the Math Grades of Students"
   ]
  },
  {
   "cell_type": "markdown",
   "id": "2dcb1872-9729-463d-ae82-10779557c968",
   "metadata": {},
   "source": [
    "### Introduction:\n",
    "\n",
    "- Provide some relevant background information on the topic so that someone unfamiliar with it will be prepared to understand the rest of your proposal:\n",
    "- Clearly state the question you will try to answer with your project:\n",
    "- Identify and describe the dataset that will be used to answer the question:\n"
   ]
  },
  {
   "cell_type": "markdown",
   "id": "2da77887-6f9c-4048-a406-86f37842a46c",
   "metadata": {},
   "source": [
    "### Preliminary exploratory data analysis\n",
    "\n",
    "- Demonstrate that the dataset can be read from the web into R \n",
    "- Clean and wrangle your data into a tidy format\n",
    "- Using only training data, summarize the data in at least one table (this is exploratory data analysis). An example of a useful table could be one that reports the number of observations in each class, the means of the predictor variables you plan to use in your analysis and how many rows have missing data. \n",
    "- Using only training data, visualize the data with at least one plot relevant to the analysis you plan to do (this is exploratory data analysis). An example of a useful visualization could be one that compares the distributions of each of the predictor variables you plan to use in your analysis.\n"
   ]
  },
  {
   "cell_type": "code",
   "execution_count": null,
   "id": "33d9f672",
   "metadata": {
    "vscode": {
     "languageId": "r"
    }
   },
   "outputs": [],
   "source": [
    "url <- \"https://raw.githubusercontent.com/chloezandberg/dsci-100-project/main/student-mat.csv\"\n",
    "math_data <- read_csv2(url)\n",
    "math_data"
   ]
  },
  {
   "cell_type": "code",
   "execution_count": null,
   "id": "29d848f9",
   "metadata": {
    "vscode": {
     "languageId": "r"
    }
   },
   "outputs": [],
   "source": []
  },
  {
   "cell_type": "code",
   "execution_count": null,
   "id": "ff33c2b2",
   "metadata": {
    "vscode": {
     "languageId": "r"
    }
   },
   "outputs": [],
   "source": [
    "clean_math_data <- math_data |>\n",
    "    select(freetime, studytime, absences, G3) |> # G3 is final grade in Portugese school system\n",
    "    mutate(final_percentage = (G3/20)*100) |> # final grade is out of 20\n",
    "    mutate(grade_range = cut(final_percentage, c(0, 49, 54, 67, 79, 100))) |>\n",
    "    mutate(final_percentage = fct_recode(final_percentage, \n",
    "                                           NA = \"F\",\n",
    "                                           \"(0,49]\" = \"F\",\n",
    "                                           \"(49,54]\" = \"D\",\n",
    "                                           \"(54,67]\" = \"C\",\n",
    "                                           \"(67,79]\" = \"B\",\n",
    "                                           \"(79,100]\" = \"A\"))\n",
    "                                           \n",
    "clean_math_data"
   ]
  },
  {
   "cell_type": "code",
   "execution_count": null,
   "id": "03872579",
   "metadata": {
    "vscode": {
     "languageId": "r"
    }
   },
   "outputs": [],
   "source": [
    "avg_predictors <- clean_math_data |>\n",
    "            select(freetime, studytime, absences) |>\n",
    "            map(mean())\n",
    "\n",
    "number_observations <- clean_math_data |>\n",
    "            n() |>\n",
    "\n",
    "observations_tibble <- tibble(observations = number_observations)\n",
    "\n",
    "exploratory_data_analysis <- bind_rows(observations_tibble, avg_predictors)\n",
    "\n",
    "exploratory_data_analysis"
   ]
  },
  {
   "cell_type": "code",
   "execution_count": null,
   "id": "5354eb3d",
   "metadata": {
    "vscode": {
     "languageId": "r"
    }
   },
   "outputs": [],
   "source": [
    "math_plot <- ggplot(clean_math_data, aes(x=freetime, y=studytime, color = final_percentage)) +\n",
    "                geom_point(alpha = 0.4) +\n",
    "                labs(x=\"Free time (1-4)\",\n",
    "                y=\"Study time(1-4)\",\n",
    "                color = \"Final letter grade (based on UBC marking scheme)\") +\n",
    "                ggtitle(\"Free time vs. study time for Portugese math students\")"
   ]
  },
  {
   "cell_type": "markdown",
   "id": "aaa9b9a0-ae09-43b3-abe7-f52df1b4fec7",
   "metadata": {},
   "source": [
    "### Methods:\n",
    "\n",
    "\n",
    "- Explain how you will conduct either your data analysis and which variables/columns you will use. Note - you do not need to use all variables/columns that exist in the raw data set. In fact, that's often not a good idea. For each variable think: is this a useful variable for prediction?\n",
    "- Describe at least one way that you will visualize the results\n"
   ]
  },
  {
   "cell_type": "markdown",
   "id": "96f9253d-ca1c-4a88-95c1-daf276ceaa08",
   "metadata": {},
   "source": [
    "- We will conduct our data analysis on numerical values that have higher correlation in order to show a trend. We intend to use lifestyle based variables like study time, free time, and absences to find their effects on the final math grades of students attending the given school.\n",
    "\n",
    "- One way we will visualize the results is by using a scatterplot to plot our variable on the x-axis vs the grade percentage on the y axis.\n",
    "  \n",
    "- Another way that the data could be visualized is by comparing the correlational values of the variables we choose on a bar graph, in order to display how much impact, if any, each variable has on final math grade.\n",
    "\n"
   ]
  },
  {
   "attachments": {},
   "cell_type": "markdown",
   "id": "4d764637-7cb8-4472-9734-cef550601c59",
   "metadata": {},
   "source": [
    "### Expected outcomes and significance:\n",
    "- This classifictation model is intended to provide insight into how study time, free time, and absences affect student performance. We aim to measure and comprehend the predictive potential of these variables for grade categories(e.g.,A+,A,B,F,etc.). For example, more study time mat be linked to better grades; free time may be linked to both academic success and general well-being; and frequent absenteeism may have negative impacts on grades. We anticipate identifying which lifestyle and study habits are most predictive of academic success. This includes how study time affects grades, how crucial it is to manage free time for academic productivity, and how frequent absences harm students's academic performance.\n",
    "- Our project's findings could influence curriculum development and educational policy in addition to inspiring the creation of focused intervention initiatives. Through an awareness of the connections between study time, free time, absenteeism, and academic performance, educators and politicians may create curriculum and policies that support productive study habits, stimulate leisure activities, and stress the value of consistent attendance. With their help, schools would be able to provide at-risk students with specialized mental health services, attendance improvement plans, and tutoring on an individual basis. In the end, these adjustments might enhance learning results, foster student growth, and get students ready for further education and employment\n",
    "- Future Questions: How could schools and educational institutions measure the long-term success of personalized intervention strategies that are based on student's specific patterns in study time, free time, and attendance? How might the interaction between study habits, leisure time, and attendance during formative educational years influence cognitive development and decision-making skills into adulthood? \n",
    "\n"
   ]
  },
  {
   "cell_type": "code",
   "execution_count": null,
   "id": "c631301c-89ee-44d1-9a1a-40895feef96b",
   "metadata": {
    "vscode": {
     "languageId": "r"
    }
   },
   "outputs": [],
   "source": []
  }
 ],
 "metadata": {
  "kernelspec": {
   "display_name": "R",
   "language": "R",
   "name": "ir"
  },
  "language_info": {
   "codemirror_mode": "r",
   "file_extension": ".r",
   "mimetype": "text/x-r-source",
   "name": "R",
   "pygments_lexer": "r",
   "version": "4.3.1"
  }
 },
 "nbformat": 4,
 "nbformat_minor": 5
}
