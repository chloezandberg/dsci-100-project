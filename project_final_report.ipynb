{
 "cells": [
  {
   "cell_type": "markdown",
   "id": "1441abac-79a7-40ad-b850-ad5628a88713",
   "metadata": {},
   "source": [
    "## The Effects of Lifestyle Based Variables on the Math Grades of Students\n",
    "### Introduction:\n",
    "provide some relevant background information on the topic so that someone unfamiliar with it will be prepared to understand the rest of your report\n",
    "clearly state the question you tried to answer with your project\n",
    "identify and describe the dataset that was used to answer the question\n",
    "### Methods & Results:\n",
    "describe in written English the methods you used to perform your analysis from beginning to end that narrates the code the does the analysis.\n",
    "your report should include code which:\n",
    "loads data from the original source on the web \n",
    "wrangles and cleans the data from it's original (downloaded) format to the format necessary for the planned analysis\n",
    "performs a summary of the data set that is relevant for exploratory data analysis related to the planned analysis \n",
    "creates a visualization of the dataset that is relevant for exploratory data analysis related to the planned analysis\n",
    "performs the data analysis\n",
    "creates a visualization of the analysis \n",
    "note: all tables and figure should have a figure/table number and a legend\n",
    "### Discussion:\n",
    "summarize what you found\n",
    "discuss whether this is what you expected to find?\n",
    "discuss what impact could such findings have?\n",
    "discuss what future questions could this lead to?\n",
    "### References\n",
    "At least 2 citations of literature relevant to the project (format is your choice, just be consistent across the references).\n",
    "Make sure to cite the source of your data as well.\n"
   ]
  },
  {
   "cell_type": "markdown",
   "id": "6c65b3ca-a7e4-4256-95ca-7eea25575f2a",
   "metadata": {},
   "source": [
    "### Introduction\n",
    "\n",
    "This group will be examining factors influencing student performance in Portuguese secondary students to attempt to answer the question of which factor is most influential in promoting good grades. We will be approaching this problem using classification techniques in R. The student achievement data was collected from 2 Portuguese secondary schools and assessed performance in mathematics. The data includes the target variable (student grades during periods 1, 2, and 3) in addition to 30 predictor variables. For the purposes of this project, we have chosen 3 variables with numerical values to be able to determine the answer to our question. The 3 variables are hours of free time, hours of study time, and number of school absences. Moreover, the data originally comes in an excel sheet format which will need to be considered when reading the data set into R. The data can be accessed through the link below Data set: https://archive.ics.uci.edu/dataset/320/student+performance Data set source: UC Irvine Machine Learning Repository"
   ]
  },
  {
   "cell_type": "code",
   "execution_count": null,
   "id": "30e1d7ff-4c28-4ec1-b5a2-324f5298add2",
   "metadata": {},
   "outputs": [],
   "source": []
  },
  {
   "cell_type": "code",
   "execution_count": null,
   "id": "55dd4356-217d-4bf5-a4e6-7606a6a43a5a",
   "metadata": {},
   "outputs": [],
   "source": []
  }
 ],
 "metadata": {
  "kernelspec": {
   "display_name": "Python 3 (ipykernel)",
   "language": "python",
   "name": "python3"
  },
  "language_info": {
   "codemirror_mode": {
    "name": "ipython",
    "version": 3
   },
   "file_extension": ".py",
   "mimetype": "text/x-python",
   "name": "python",
   "nbconvert_exporter": "python",
   "pygments_lexer": "ipython3",
   "version": "3.11.5"
  }
 },
 "nbformat": 4,
 "nbformat_minor": 5
}
