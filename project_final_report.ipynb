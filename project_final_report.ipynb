{
 "cells": [
  {
   "cell_type": "markdown",
   "id": "1441abac-79a7-40ad-b850-ad5628a88713",
   "metadata": {},
   "source": [
    "## The Effects of Lifestyle Based Variables on the Math Grades of Students\n",
    "### Introduction:\n",
    "provide some relevant background information on the topic so that someone unfamiliar with it will be prepared to understand the rest of your report\n",
    "clearly state the question you tried to answer with your project\n",
    "identify and describe the dataset that was used to answer the question\n",
    "### Methods & Results:\n",
    "describe in written English the methods you used to perform your analysis from beginning to end that narrates the code the does the analysis.\n",
    "your report should include code which:\n",
    "loads data from the original source on the web \n",
    "wrangles and cleans the data from it's original (downloaded) format to the format necessary for the planned analysis\n",
    "performs a summary of the data set that is relevant for exploratory data analysis related to the planned analysis \n",
    "creates a visualization of the dataset that is relevant for exploratory data analysis related to the planned analysis\n",
    "performs the data analysis\n",
    "creates a visualization of the analysis \n",
    "note: all tables and figure should have a figure/table number and a legend\n",
    "### Discussion:\n",
    "summarize what you found\n",
    "discuss whether this is what you expected to find?\n",
    "discuss what impact could such findings have?\n",
    "discuss what future questions could this lead to?\n",
    "### References\n",
    "At least 2 citations of literature relevant to the project (format is your choice, just be consistent across the references).\n",
    "Make sure to cite the source of your data as well.\n"
   ]
  },
  {
   "cell_type": "markdown",
   "id": "6c65b3ca-a7e4-4256-95ca-7eea25575f2a",
   "metadata": {},
   "source": [
    "### Introduction\n",
    "\n",
    "This group will be examining factors influencing student performance in Portuguese secondary students to attempt to answer the question of which factor is most influential in promoting good grades. We will be approaching this problem using classification techniques in R. The student achievement data was collected from 2 Portuguese secondary schools and assessed performance in mathematics. The data includes the target variable (student grades during periods 1, 2, and 3) in addition to 30 predictor variables. For the purposes of this project, we have chosen 3 variables with numerical values to be able to determine the answer to our question. The 3 variables are hours of free time, hours of study time, and number of school absences. Moreover, the data originally comes in an excel sheet format which will need to be considered when reading the data set into R. The data can be accessed through the link below Data set: https://archive.ics.uci.edu/dataset/320/student+performance Data set source: UC Irvine Machine Learning Repository"
   ]
  },
  {
   "cell_type": "markdown",
   "id": "18072560-4eba-49a9-a8ac-cfb159bc2f14",
   "metadata": {},
   "source": [
    "### Reading in the Data\n",
    "\n",
    "Here, we read in the data from our GitHub repository. The original dataset is from the UC Irvine Machine Learning Repository, but for reproducibility, we will read it in from a GitHub URL. This is what we have done below, using `read_csv2` to read in the data, as it uses a semi-colon as a delimiter. We use `head` to display the first 6 lines of our dataset."
   ]
  },
  {
   "cell_type": "code",
   "execution_count": 1,
   "id": "55dd4356-217d-4bf5-a4e6-7606a6a43a5a",
   "metadata": {},
   "outputs": [
    {
     "name": "stderr",
     "output_type": "stream",
     "text": [
      "Warning message:\n",
      "“package ‘ggplot2’ was built under R version 4.3.2”\n",
      "── \u001b[1mAttaching core tidyverse packages\u001b[22m ──────────────────────── tidyverse 2.0.0 ──\n",
      "\u001b[32m✔\u001b[39m \u001b[34mdplyr    \u001b[39m 1.1.3     \u001b[32m✔\u001b[39m \u001b[34mreadr    \u001b[39m 2.1.4\n",
      "\u001b[32m✔\u001b[39m \u001b[34mforcats  \u001b[39m 1.0.0     \u001b[32m✔\u001b[39m \u001b[34mstringr  \u001b[39m 1.5.0\n",
      "\u001b[32m✔\u001b[39m \u001b[34mggplot2  \u001b[39m 3.5.0     \u001b[32m✔\u001b[39m \u001b[34mtibble   \u001b[39m 3.2.1\n",
      "\u001b[32m✔\u001b[39m \u001b[34mlubridate\u001b[39m 1.9.2     \u001b[32m✔\u001b[39m \u001b[34mtidyr    \u001b[39m 1.3.0\n",
      "\u001b[32m✔\u001b[39m \u001b[34mpurrr    \u001b[39m 1.0.2     \n",
      "── \u001b[1mConflicts\u001b[22m ────────────────────────────────────────── tidyverse_conflicts() ──\n",
      "\u001b[31m✖\u001b[39m \u001b[34mdplyr\u001b[39m::\u001b[32mfilter()\u001b[39m masks \u001b[34mstats\u001b[39m::filter()\n",
      "\u001b[31m✖\u001b[39m \u001b[34mdplyr\u001b[39m::\u001b[32mlag()\u001b[39m    masks \u001b[34mstats\u001b[39m::lag()\n",
      "\u001b[36mℹ\u001b[39m Use the conflicted package (\u001b[3m\u001b[34m<http://conflicted.r-lib.org/>\u001b[39m\u001b[23m) to force all conflicts to become errors\n",
      "── \u001b[1mAttaching packages\u001b[22m ────────────────────────────────────── tidymodels 1.1.1 ──\n",
      "\n",
      "\u001b[32m✔\u001b[39m \u001b[34mbroom       \u001b[39m 1.0.5     \u001b[32m✔\u001b[39m \u001b[34mrsample     \u001b[39m 1.2.0\n",
      "\u001b[32m✔\u001b[39m \u001b[34mdials       \u001b[39m 1.2.0     \u001b[32m✔\u001b[39m \u001b[34mtune        \u001b[39m 1.1.2\n",
      "\u001b[32m✔\u001b[39m \u001b[34minfer       \u001b[39m 1.0.5     \u001b[32m✔\u001b[39m \u001b[34mworkflows   \u001b[39m 1.1.3\n",
      "\u001b[32m✔\u001b[39m \u001b[34mmodeldata   \u001b[39m 1.2.0     \u001b[32m✔\u001b[39m \u001b[34mworkflowsets\u001b[39m 1.0.1\n",
      "\u001b[32m✔\u001b[39m \u001b[34mparsnip     \u001b[39m 1.1.1     \u001b[32m✔\u001b[39m \u001b[34myardstick   \u001b[39m 1.2.0\n",
      "\u001b[32m✔\u001b[39m \u001b[34mrecipes     \u001b[39m 1.0.8     \n",
      "\n",
      "── \u001b[1mConflicts\u001b[22m ───────────────────────────────────────── tidymodels_conflicts() ──\n",
      "\u001b[31m✖\u001b[39m \u001b[34mscales\u001b[39m::\u001b[32mdiscard()\u001b[39m masks \u001b[34mpurrr\u001b[39m::discard()\n",
      "\u001b[31m✖\u001b[39m \u001b[34mdplyr\u001b[39m::\u001b[32mfilter()\u001b[39m   masks \u001b[34mstats\u001b[39m::filter()\n",
      "\u001b[31m✖\u001b[39m \u001b[34mrecipes\u001b[39m::\u001b[32mfixed()\u001b[39m  masks \u001b[34mstringr\u001b[39m::fixed()\n",
      "\u001b[31m✖\u001b[39m \u001b[34mdplyr\u001b[39m::\u001b[32mlag()\u001b[39m      masks \u001b[34mstats\u001b[39m::lag()\n",
      "\u001b[31m✖\u001b[39m \u001b[34myardstick\u001b[39m::\u001b[32mspec()\u001b[39m masks \u001b[34mreadr\u001b[39m::spec()\n",
      "\u001b[31m✖\u001b[39m \u001b[34mrecipes\u001b[39m::\u001b[32mstep()\u001b[39m   masks \u001b[34mstats\u001b[39m::step()\n",
      "\u001b[34m•\u001b[39m Dig deeper into tidy modeling with R at \u001b[32mhttps://www.tmwr.org\u001b[39m\n",
      "\n",
      "Warning message in file(filename, \"r\", encoding = encoding):\n",
      "“cannot open file 'tests.R': No such file or directory”\n"
     ]
    },
    {
     "ename": "ERROR",
     "evalue": "Error in file(filename, \"r\", encoding = encoding): cannot open the connection\n",
     "output_type": "error",
     "traceback": [
      "Error in file(filename, \"r\", encoding = encoding): cannot open the connection\nTraceback:\n",
      "1. source(\"tests.R\")",
      "2. file(filename, \"r\", encoding = encoding)"
     ]
    }
   ],
   "source": [
    "library(tidyverse)\n",
    "library(repr)\n",
    "library(tidymodels)\n",
    "options(repr.matrix.max.rows = 6)\n",
    "source('tests.R')\n",
    "source('cleanup.R')"
   ]
  },
  {
   "cell_type": "code",
   "execution_count": null,
   "id": "8e6f7c64-15db-49dc-940e-43d118369908",
   "metadata": {},
   "outputs": [],
   "source": [
    "url <- \"https://raw.githubusercontent.com/chloezandberg/dsci-100-project/main/student-mat.csv\"\n",
    "math_data <- read_csv2(url)\n",
    "head(math_data)"
   ]
  },
  {
   "cell_type": "markdown",
   "id": "594c75dd-3a82-4d40-96f5-c9ae3eb5e829",
   "metadata": {},
   "source": [
    "### Wrangling the Data\n",
    "\n",
    "Below, we clean the data by selecting only the predictor variables that we will use in our classification problem, `freetime`, `studytime`, and `absences`, and the variable we intend to predict, `G3`. For context, G3 is the final grade in the Portuguese school system. Next, we calculate `G3` as a percentage (as G3 is reported out of 20 in the Portuguese school system). Finally, we recode the final grade percentages according to the UBC grad"
   ]
  },
  {
   "cell_type": "code",
   "execution_count": null,
   "id": "d6dfc32d-ed19-493b-92c0-638dc38b298e",
   "metadata": {},
   "outputs": [],
   "source": [
    "clean_math_data <- math_data |>\n",
    "    select(freetime, studytime, absences, G3) |> # G3 is final grade in Portugese school system\n",
    "    mutate(final_percentage = (G3/20)*100) |> # final grade is out of 20\n",
    "    mutate(letter_grade = cut(final_percentage, c(-1, 49, 54, 67, 79, 100))) |> # recoding to be letter grade levels for classification problem\n",
    "    mutate(letter_grade = recode(letter_grade,                                  # had to set lower limit to -1 to include grades of 0%\n",
    "                                           \"(-1,49]\" = \"F\",\n",
    "                                           \"(49,54]\" = \"D\",\n",
    "                                           \"(54,67]\" = \"C\",\n",
    "                                           \"(67,79]\" = \"B\",\n",
    "                                           \"(79,100]\" = \"A\")) |> \n",
    "    select(freetime, studytime, absences, letter_grade) |>\n",
    "    drop_na()\n",
    "                                           \n",
    "clean_math_data"
   ]
  }
 ],
 "metadata": {
  "kernelspec": {
   "display_name": "R",
   "language": "R",
   "name": "ir"
  },
  "language_info": {
   "codemirror_mode": "r",
   "file_extension": ".r",
   "mimetype": "text/x-r-source",
   "name": "R",
   "pygments_lexer": "r",
   "version": "4.3.1"
  }
 },
 "nbformat": 4,
 "nbformat_minor": 5
}
